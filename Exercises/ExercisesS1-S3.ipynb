{
 "cells": [
  {
   "cell_type": "markdown",
   "id": "87d3b383",
   "metadata": {},
   "source": [
    "1.Given a number, find the sum of its digits. Take the number as\n",
    "an input from the user"
   ]
  },
  {
   "cell_type": "code",
   "execution_count": 85,
   "id": "2f80004c",
   "metadata": {},
   "outputs": [
    {
     "name": "stdout",
     "output_type": "stream",
     "text": [
      "Enter the digit:45623\n"
     ]
    }
   ],
   "source": [
    "inputNum = int(input(\"Enter the digit:\"))"
   ]
  },
  {
   "cell_type": "code",
   "execution_count": 43,
   "id": "a91cae28",
   "metadata": {},
   "outputs": [
    {
     "name": "stdout",
     "output_type": "stream",
     "text": [
      "21\n"
     ]
    }
   ],
   "source": [
    "def addDigits(number):\n",
    "    s = 0\n",
    "    while(number > 0):\n",
    "        i = number % 10\n",
    "        s = s + i\n",
    "        number = int(number / 10)\n",
    "    return s\n",
    "\n",
    "print(addDigits(inputNum))"
   ]
  },
  {
   "cell_type": "code",
   "execution_count": 87,
   "id": "cd814278",
   "metadata": {},
   "outputs": [
    {
     "name": "stdout",
     "output_type": "stream",
     "text": [
      "38\n"
     ]
    }
   ],
   "source": [
    "#one liner\n",
    "while inputNum > 0: i = inputNum %10 ; s=s+i ;inputNum=int(inputNum/10); \n",
    "print(s)"
   ]
  },
  {
   "cell_type": "markdown",
   "id": "b298e18c",
   "metadata": {},
   "source": [
    "3.Given a string, write a python function to check if it is\n",
    "palindrome or not. A string is said to be palindrome if the reverse\n",
    "of the string is the same as string. For example, “malayalam” is a\n",
    "palindrome, but “music” is not a palindrome."
   ]
  },
  {
   "cell_type": "code",
   "execution_count": 81,
   "id": "25eef40c",
   "metadata": {},
   "outputs": [],
   "source": [
    "def palindromeCheck(str):\n",
    "    rev = \"\"\n",
    "    for i in range(len(str)):\n",
    "        rev = str[ ::-1]\n",
    "    \n",
    "    if (rev == str):\n",
    "        print(str,\" is a palindrome\")\n",
    "    else:\n",
    "        print(str,\" is not a palindrome\")"
   ]
  },
  {
   "cell_type": "code",
   "execution_count": 82,
   "id": "174c801d",
   "metadata": {},
   "outputs": [
    {
     "name": "stdout",
     "output_type": "stream",
     "text": [
      "Enter the string to check:telas\n",
      "telas  is not a palindrome\n"
     ]
    }
   ],
   "source": [
    "user = input(\"Enter the string to check:\")\n",
    "palindromeCheck(user)"
   ]
  },
  {
   "cell_type": "code",
   "execution_count": 80,
   "id": "dae9e1fb",
   "metadata": {},
   "outputs": [
    {
     "name": "stdout",
     "output_type": "stream",
     "text": [
      "Enter the string to check:malayalam\n",
      "It is a palindrome\n"
     ]
    }
   ],
   "source": [
    "#result=value_when_true if condition else value_when_false\n",
    "#Palindrome check in a line\n",
    "str = input(\"Enter the string to check:\")\n",
    "result = \"It is a palindrome\" if str == str[ ::-1] else \"It is not a palindrome\"\n",
    "print(result)"
   ]
  },
  {
   "cell_type": "markdown",
   "id": "91d331d7",
   "metadata": {},
   "source": [
    "4. Given an array which may contain duplicates, print all elements\n",
    "and their frequencies."
   ]
  },
  {
   "cell_type": "code",
   "execution_count": null,
   "id": "18515644",
   "metadata": {},
   "outputs": [],
   "source": []
  }
 ],
 "metadata": {
  "kernelspec": {
   "display_name": "Python 3",
   "language": "python",
   "name": "python3"
  },
  "language_info": {
   "codemirror_mode": {
    "name": "ipython",
    "version": 3
   },
   "file_extension": ".py",
   "mimetype": "text/x-python",
   "name": "python",
   "nbconvert_exporter": "python",
   "pygments_lexer": "ipython3",
   "version": "3.8.8"
  }
 },
 "nbformat": 4,
 "nbformat_minor": 5
}
